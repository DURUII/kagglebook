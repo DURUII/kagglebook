{
 "cells": [
  {
   "cell_type": "markdown",
   "metadata": {},
   "source": [
    "# 「Titanic - Machine Learning from Disaster」\n",
    "\n",
    "## 评价指标\n",
    "\n",
    "- 任务：二元分类，预测乘客是否存活\n",
    "- 指标：正确率，正确预测笔数/全体预测数量"
   ]
  },
  {
   "cell_type": "code",
   "execution_count": 1,
   "metadata": {
    "ExecuteTime": {
     "end_time": "2023-07-13T10:57:58.530939Z",
     "start_time": "2023-07-13T10:57:57.369101Z"
    }
   },
   "outputs": [],
   "source": [
    "# 载入套件\n",
    "import numpy as np\n",
    "import pandas as pd\n",
    "\n",
    "# 载入训练资料、测试资料\n",
    "train = pd.read_csv('../input/ch01-titanic/train.csv')\n",
    "test = pd.read_csv('../input/ch01-titanic/test.csv')\n"
   ]
  },
  {
   "cell_type": "code",
   "execution_count": 2,
   "metadata": {
    "ExecuteTime": {
     "end_time": "2023-07-13T10:57:58.542291Z",
     "start_time": "2023-07-13T10:57:58.532457Z"
    }
   },
   "outputs": [
    {
     "data": {
      "text/plain": [
       "PassengerId      0\n",
       "Survived         0\n",
       "Pclass           0\n",
       "Name             0\n",
       "Sex              0\n",
       "SibSp            0\n",
       "Parch            0\n",
       "Ticket           0\n",
       "Fare             0\n",
       "Embarked         2\n",
       "Age            177\n",
       "Cabin          687\n",
       "dtype: int64"
      ]
     },
     "execution_count": 2,
     "metadata": {},
     "output_type": "execute_result"
    }
   ],
   "source": [
    "# NaN 为资料遗漏，部分机器学习演算法（如GBDT）可以处理这类问题\n",
    "# 此外，决策树也不受标准化转换特征值的影响，是数据分析竞赛初步分析的主要模型\n",
    "train.isna().sum().sort_values()\n"
   ]
  },
  {
   "cell_type": "markdown",
   "metadata": {},
   "source": [
    "## 特征工程\n",
    "\n",
    "对训练资料进行**预处理**，转换为模型可以学习的形式，同时新增原本难于发掘、隐含但有助于机器学习演算法预测的特征值。通常特征的好坏决定了竞赛中的排名。\n",
    "\n",
    "- Numeric\n",
    "    - scaling: `MinMax`, `Standard`\n",
    "    - outlier: `winsorization`\n",
    "    - rank mapping\n",
    "    - math: `+-*/`, `log`, `sqrt`, fractional_part, `round`\n",
    "    - concatenation/fusion\n",
    "- Categorical/Ordinal\n",
    "    - tree-based model: `Label Encoding`, `Frequency Encoding`\n",
    "    - linear model: `One-Hot Encoding`\n",
    "- Datetime\n",
    "    - periodicity: for example, day number in the week, is_holiday\n",
    "    - since: for example, days left until next holiday or time passed after last holiday\n",
    "    - difference: for example, `datetime_feature_1 - datetime_feature_2`\n",
    "- Coordinate\n",
    "    - distance from POI\n",
    "    - center clusters\n",
    "    - aggregation from surrounding areas: for example, mean housing price\n",
    "    - rotation\n",
    "- Missing values\n",
    "    - mean or median\n",
    "    - `isnull`\n",
    "    - reconstruction\n",
    "  > Xgboost can handle NaN\n",
    "- Text\n",
    "    - lowercase, lemmatize or stem, stopwords\n",
    "    - Bag of words: N-grams, TFiDF\n",
    "    - word2vec\n",
    "\n",
    "让我们从前辈的经验学习能建立何种假设以及将假设写成程式码的方法叭！\n",
    "\n",
    "- 《图灵程序设计丛书 - 精通特征工程》\n",
    "- https://www.slideshare.net/mlm_kansai/kaggle-138546659\n",
    "- https://naotaka1128.hatenadiary.jp/entry/kaggle-challenge-story\n",
    "- https://farid.one/kaggle-solutions/\n",
    "- https://github.com/nejumi/kaggle_memo"
   ]
  },
  {
   "cell_type": "code",
   "execution_count": 3,
   "metadata": {
    "ExecuteTime": {
     "end_time": "2023-07-13T10:58:03.384417Z",
     "start_time": "2023-07-13T10:57:58.543593Z"
    }
   },
   "outputs": [],
   "source": [
    "import ydata_profiling\n",
    "import scienceplots\n",
    "import matplotlib.pyplot as plt\n",
    "import seaborn as sns\n",
    "import matplotlib\n",
    "# matplotlib.use('pdf')\n",
    "\n",
    "\n",
    "pd.plotting.register_matplotlib_converters()\n",
    "plt.style.use(['fivethirtyeight'])\n",
    "sns.set(\n",
    "    # rc={'text.usetex': True},\n",
    "    font=\"serif\",\n",
    "    font_scale=1.2\n",
    ")\n",
    "\n",
    "\n",
    "# train.profile_report()\n"
   ]
  },
  {
   "cell_type": "code",
   "execution_count": 4,
   "metadata": {
    "ExecuteTime": {
     "end_time": "2023-07-13T10:58:03.394605Z",
     "start_time": "2023-07-13T10:58:03.386103Z"
    }
   },
   "outputs": [
    {
     "data": {
      "text/html": [
       "<div>\n",
       "<style scoped>\n",
       "    .dataframe tbody tr th:only-of-type {\n",
       "        vertical-align: middle;\n",
       "    }\n",
       "\n",
       "    .dataframe tbody tr th {\n",
       "        vertical-align: top;\n",
       "    }\n",
       "\n",
       "    .dataframe thead th {\n",
       "        text-align: right;\n",
       "    }\n",
       "</style>\n",
       "<table border=\"1\" class=\"dataframe\">\n",
       "  <thead>\n",
       "    <tr style=\"text-align: right;\">\n",
       "      <th></th>\n",
       "      <th>PassengerId</th>\n",
       "      <th>Survived</th>\n",
       "      <th>Pclass</th>\n",
       "      <th>Name</th>\n",
       "      <th>Sex</th>\n",
       "      <th>Age</th>\n",
       "      <th>SibSp</th>\n",
       "      <th>Parch</th>\n",
       "      <th>Ticket</th>\n",
       "      <th>Fare</th>\n",
       "      <th>Cabin</th>\n",
       "      <th>Embarked</th>\n",
       "    </tr>\n",
       "  </thead>\n",
       "  <tbody>\n",
       "    <tr>\n",
       "      <th>0</th>\n",
       "      <td>1</td>\n",
       "      <td>0</td>\n",
       "      <td>3</td>\n",
       "      <td>Braund, Mr. Owen Harris</td>\n",
       "      <td>male</td>\n",
       "      <td>22.0</td>\n",
       "      <td>1</td>\n",
       "      <td>0</td>\n",
       "      <td>A/5 21171</td>\n",
       "      <td>7.2500</td>\n",
       "      <td>NaN</td>\n",
       "      <td>S</td>\n",
       "    </tr>\n",
       "    <tr>\n",
       "      <th>1</th>\n",
       "      <td>2</td>\n",
       "      <td>1</td>\n",
       "      <td>1</td>\n",
       "      <td>Cumings, Mrs. John Bradley (Florence Briggs Th...</td>\n",
       "      <td>female</td>\n",
       "      <td>38.0</td>\n",
       "      <td>1</td>\n",
       "      <td>0</td>\n",
       "      <td>PC 17599</td>\n",
       "      <td>71.2833</td>\n",
       "      <td>C85</td>\n",
       "      <td>C</td>\n",
       "    </tr>\n",
       "    <tr>\n",
       "      <th>2</th>\n",
       "      <td>3</td>\n",
       "      <td>1</td>\n",
       "      <td>3</td>\n",
       "      <td>Heikkinen, Miss. Laina</td>\n",
       "      <td>female</td>\n",
       "      <td>26.0</td>\n",
       "      <td>0</td>\n",
       "      <td>0</td>\n",
       "      <td>STON/O2. 3101282</td>\n",
       "      <td>7.9250</td>\n",
       "      <td>NaN</td>\n",
       "      <td>S</td>\n",
       "    </tr>\n",
       "    <tr>\n",
       "      <th>3</th>\n",
       "      <td>4</td>\n",
       "      <td>1</td>\n",
       "      <td>1</td>\n",
       "      <td>Futrelle, Mrs. Jacques Heath (Lily May Peel)</td>\n",
       "      <td>female</td>\n",
       "      <td>35.0</td>\n",
       "      <td>1</td>\n",
       "      <td>0</td>\n",
       "      <td>113803</td>\n",
       "      <td>53.1000</td>\n",
       "      <td>C123</td>\n",
       "      <td>S</td>\n",
       "    </tr>\n",
       "    <tr>\n",
       "      <th>4</th>\n",
       "      <td>5</td>\n",
       "      <td>0</td>\n",
       "      <td>3</td>\n",
       "      <td>Allen, Mr. William Henry</td>\n",
       "      <td>male</td>\n",
       "      <td>35.0</td>\n",
       "      <td>0</td>\n",
       "      <td>0</td>\n",
       "      <td>373450</td>\n",
       "      <td>8.0500</td>\n",
       "      <td>NaN</td>\n",
       "      <td>S</td>\n",
       "    </tr>\n",
       "  </tbody>\n",
       "</table>\n",
       "</div>"
      ],
      "text/plain": [
       "   PassengerId  Survived  Pclass  \\\n",
       "0            1         0       3   \n",
       "1            2         1       1   \n",
       "2            3         1       3   \n",
       "3            4         1       1   \n",
       "4            5         0       3   \n",
       "\n",
       "                                                Name     Sex   Age  SibSp  \\\n",
       "0                            Braund, Mr. Owen Harris    male  22.0      1   \n",
       "1  Cumings, Mrs. John Bradley (Florence Briggs Th...  female  38.0      1   \n",
       "2                             Heikkinen, Miss. Laina  female  26.0      0   \n",
       "3       Futrelle, Mrs. Jacques Heath (Lily May Peel)  female  35.0      1   \n",
       "4                           Allen, Mr. William Henry    male  35.0      0   \n",
       "\n",
       "   Parch            Ticket     Fare Cabin Embarked  \n",
       "0      0         A/5 21171   7.2500   NaN        S  \n",
       "1      0          PC 17599  71.2833   C85        C  \n",
       "2      0  STON/O2. 3101282   7.9250   NaN        S  \n",
       "3      0            113803  53.1000  C123        S  \n",
       "4      0            373450   8.0500   NaN        S  "
      ]
     },
     "execution_count": 4,
     "metadata": {},
     "output_type": "execute_result"
    }
   ],
   "source": [
    "\n",
    "train.head()\n"
   ]
  },
  {
   "cell_type": "code",
   "execution_count": 5,
   "metadata": {
    "ExecuteTime": {
     "end_time": "2023-07-13T10:58:03.769947Z",
     "start_time": "2023-07-13T10:58:03.395447Z"
    }
   },
   "outputs": [
    {
     "data": {
      "image/png": "[encoded data removed]",
      "text/plain": [
       "<Figure size 1320x960 with 2 Axes>"
      ]
     },
     "metadata": {
      "needs_background": "light"
     },
     "output_type": "display_data"
    }
   ],
   "source": [
    "%matplotlib inline\n",
    "fig, axes = plt.subplots(2, 1, figsize=(11, 8), dpi=120)\n",
    "for ax, x in zip(axes, ['Age', 'Fare']):\n",
    "    for label in [0, 1]:\n",
    "        ax.hist(train.query(f'Survived == {label}')[x].dropna(),\n",
    "                bins=38, histtype='step', label=str(label))\n",
    "        ax.set_xlabel(x)\n",
    "        ax.set_ylabel('Count')\n",
    "        ax.legend()\n",
    "plt.show()\n"
   ]
  },
  {
   "cell_type": "code",
   "execution_count": 6,
   "metadata": {
    "ExecuteTime": {
     "end_time": "2023-07-13T10:58:04.057641Z",
     "start_time": "2023-07-13T10:58:03.771281Z"
    }
   },
   "outputs": [
    {
     "data": {
      "image/png": "[encoded data removed]",
      "text/plain": [
       "<Figure size 720x396 with 2 Axes>"
      ]
     },
     "metadata": {
      "needs_background": "light"
     },
     "output_type": "display_data"
    }
   ],
   "source": [
    "fig, axes = plt.subplots(1, 2, figsize=(10, 5.5))\n",
    "# SibSp 指共乘的兄弟姐妹与配偶，Parch 指父母亲带小孩上船\n",
    "# 或许可以尝试加入单身、家庭规格的新增特征的排列组合\n",
    "for ax, x in zip(axes, ['SibSp', 'Parch']):\n",
    "    sns.countplot(x=x, hue='Survived', data=train, ax=ax)\n"
   ]
  },
  {
   "cell_type": "code",
   "execution_count": 7,
   "metadata": {
    "ExecuteTime": {
     "end_time": "2023-07-13T10:58:04.199307Z",
     "start_time": "2023-07-13T10:58:04.058729Z"
    }
   },
   "outputs": [
    {
     "data": {
      "text/plain": [
       "<Axes: xlabel='Pclass', ylabel='count'>"
      ]
     },
     "execution_count": 7,
     "metadata": {},
     "output_type": "execute_result"
    },
    {
     "data": {
      "image/png": "[encoded data removed]",
      "text/plain": [
       "<Figure size 432x288 with 1 Axes>"
      ]
     },
     "metadata": {
      "needs_background": "light"
     },
     "output_type": "display_data"
    }
   ],
   "source": [
    "sns.countplot(data=train, x='Pclass', hue='Survived')\n"
   ]
  },
  {
   "cell_type": "code",
   "execution_count": 8,
   "metadata": {
    "ExecuteTime": {
     "end_time": "2023-07-13T10:58:04.414607Z",
     "start_time": "2023-07-13T10:58:04.201097Z"
    }
   },
   "outputs": [
    {
     "data": {
      "text/plain": [
       "<Axes: xlabel='Sex', ylabel='count'>"
      ]
     },
     "execution_count": 8,
     "metadata": {},
     "output_type": "execute_result"
    },
    {
     "data": {
      "image/png": "[encoded data removed]",
      "text/plain": [
       "<Figure size 432x288 with 1 Axes>"
      ]
     },
     "metadata": {
      "needs_background": "light"
     },
     "output_type": "display_data"
    }
   ],
   "source": [
    "sns.countplot(data=train, x='Sex', hue='Survived')\n"
   ]
  },
  {
   "cell_type": "code",
   "execution_count": 9,
   "metadata": {
    "ExecuteTime": {
     "end_time": "2023-07-13T10:58:04.704942Z",
     "start_time": "2023-07-13T10:58:04.423235Z"
    }
   },
   "outputs": [
    {
     "data": {
      "text/plain": [
       "<Axes: xlabel='Embarked', ylabel='count'>"
      ]
     },
     "execution_count": 9,
     "metadata": {},
     "output_type": "execute_result"
    },
    {
     "data": {
      "image/png": "[encoded data removed]",
      "text/plain": [
       "<Figure size 432x288 with 1 Axes>"
      ]
     },
     "metadata": {
      "needs_background": "light"
     },
     "output_type": "display_data"
    }
   ],
   "source": [
    "sns.countplot(data=train, x='Embarked', hue='Survived')\n"
   ]
  },
  {
   "cell_type": "code",
   "execution_count": 10,
   "metadata": {
    "ExecuteTime": {
     "end_time": "2023-07-13T10:58:04.982684Z",
     "start_time": "2023-07-13T10:58:04.710087Z"
    }
   },
   "outputs": [],
   "source": [
    "from sklearn.preprocessing import LabelEncoder\n",
    "\n",
    "# 分別取出訓練資料的特徵和標籤\n",
    "X_train = train.drop(['Survived'], axis=1)\n",
    "y_train = train['Survived']\n",
    "\n",
    "# 由於測試資料只有特徵，維持原樣複製一份即可\n",
    "X_test = test.copy()\n",
    "\n",
    "# 1. 去除 PassengerId：若放在训练资料内可能会被模型认为是有意义的特征\n",
    "X_train.drop(['PassengerId'], axis=1, inplace=True)\n",
    "X_test.drop(['PassengerId'], axis=1, inplace=True)\n",
    "\n",
    "# 2. 去除 Name, Ticket, Cabin：需经过繁杂的预处理，故删掉\n",
    "X_train.drop(['Name', 'Ticket', 'Cabin'], axis=1, inplace=True)\n",
    "X_test.drop(['Name', 'Ticket', 'Cabin'], axis=1, inplace=True)\n",
    "\n",
    "# 3. 對 Sex、Embarked 進行 label encoding：将类别对应到整数\n",
    "for c in ['Sex', 'Embarked']:\n",
    "    # 将资料喂给LabelEndoer物件，若有缺失值填入‘NA’\n",
    "    # 不过，有时候，“遗漏”具有特定意义，所以填补遗漏值不一定是正确做法\n",
    "    le = LabelEncoder()\n",
    "    le.fit(X_train[c].fillna('NA'))\n",
    "\n",
    "    # 透过LabelEncoder物件做转换，若有缺失值填入‘NA’\n",
    "    X_train[c] = le.transform(X_train[c].fillna('NA'))\n",
    "    X_test[c] = le.transform(X_test[c].fillna('NA'))\n"
   ]
  },
  {
   "cell_type": "code",
   "execution_count": 11,
   "metadata": {
    "ExecuteTime": {
     "end_time": "2023-07-13T10:58:04.988888Z",
     "start_time": "2023-07-13T10:58:04.983791Z"
    }
   },
   "outputs": [
    {
     "data": {
      "text/html": [
       "<div>\n",
       "<style scoped>\n",
       "    .dataframe tbody tr th:only-of-type {\n",
       "        vertical-align: middle;\n",
       "    }\n",
       "\n",
       "    .dataframe tbody tr th {\n",
       "        vertical-align: top;\n",
       "    }\n",
       "\n",
       "    .dataframe thead th {\n",
       "        text-align: right;\n",
       "    }\n",
       "</style>\n",
       "<table border=\"1\" class=\"dataframe\">\n",
       "  <thead>\n",
       "    <tr style=\"text-align: right;\">\n",
       "      <th></th>\n",
       "      <th>Pclass</th>\n",
       "      <th>Sex</th>\n",
       "      <th>Age</th>\n",
       "      <th>SibSp</th>\n",
       "      <th>Parch</th>\n",
       "      <th>Fare</th>\n",
       "      <th>Embarked</th>\n",
       "    </tr>\n",
       "  </thead>\n",
       "  <tbody>\n",
       "    <tr>\n",
       "      <th>0</th>\n",
       "      <td>3</td>\n",
       "      <td>1</td>\n",
       "      <td>22.0</td>\n",
       "      <td>1</td>\n",
       "      <td>0</td>\n",
       "      <td>7.2500</td>\n",
       "      <td>3</td>\n",
       "    </tr>\n",
       "    <tr>\n",
       "      <th>1</th>\n",
       "      <td>1</td>\n",
       "      <td>0</td>\n",
       "      <td>38.0</td>\n",
       "      <td>1</td>\n",
       "      <td>0</td>\n",
       "      <td>71.2833</td>\n",
       "      <td>0</td>\n",
       "    </tr>\n",
       "    <tr>\n",
       "      <th>2</th>\n",
       "      <td>3</td>\n",
       "      <td>0</td>\n",
       "      <td>26.0</td>\n",
       "      <td>0</td>\n",
       "      <td>0</td>\n",
       "      <td>7.9250</td>\n",
       "      <td>3</td>\n",
       "    </tr>\n",
       "    <tr>\n",
       "      <th>3</th>\n",
       "      <td>1</td>\n",
       "      <td>0</td>\n",
       "      <td>35.0</td>\n",
       "      <td>1</td>\n",
       "      <td>0</td>\n",
       "      <td>53.1000</td>\n",
       "      <td>3</td>\n",
       "    </tr>\n",
       "    <tr>\n",
       "      <th>4</th>\n",
       "      <td>3</td>\n",
       "      <td>1</td>\n",
       "      <td>35.0</td>\n",
       "      <td>0</td>\n",
       "      <td>0</td>\n",
       "      <td>8.0500</td>\n",
       "      <td>3</td>\n",
       "    </tr>\n",
       "  </tbody>\n",
       "</table>\n",
       "</div>"
      ],
      "text/plain": [
       "   Pclass  Sex   Age  SibSp  Parch     Fare  Embarked\n",
       "0       3    1  22.0      1      0   7.2500         3\n",
       "1       1    0  38.0      1      0  71.2833         0\n",
       "2       3    0  26.0      0      0   7.9250         3\n",
       "3       1    0  35.0      1      0  53.1000         3\n",
       "4       3    1  35.0      0      0   8.0500         3"
      ]
     },
     "execution_count": 11,
     "metadata": {},
     "output_type": "execute_result"
    }
   ],
   "source": [
    "X_train.head()\n"
   ]
  },
  {
   "cell_type": "code",
   "execution_count": 12,
   "metadata": {
    "ExecuteTime": {
     "end_time": "2023-07-13T10:58:05.148616Z",
     "start_time": "2023-07-13T10:58:04.989840Z"
    }
   },
   "outputs": [
    {
     "data": {
      "text/plain": [
       "<Axes: xlabel='Survived', ylabel='Count'>"
      ]
     },
     "execution_count": 12,
     "metadata": {},
     "output_type": "execute_result"
    },
    {
     "data": {
      "image/png": "[encoded data removed]",
      "text/plain": [
       "<Figure size 432x288 with 1 Axes>"
      ]
     },
     "metadata": {
      "needs_background": "light"
     },
     "output_type": "display_data"
    }
   ],
   "source": [
    "sns.histplot(data=train[train['Age'].isna()], x='Survived')\n"
   ]
  },
  {
   "cell_type": "markdown",
   "metadata": {},
   "source": [
    "## 基准模型\n",
    "\n",
    "![](https://scikit-learn.org/stable/_static/ml_map.png)\n",
    "\n",
    "常见的机器学习演算法套件有：`XGBoost`, `LightGBM`, `CatBoost`（梯度提升）, `Pytorch`（神经网络）"
   ]
  },
  {
   "cell_type": "code",
   "execution_count": 13,
   "metadata": {
    "ExecuteTime": {
     "end_time": "2023-07-13T10:58:05.511029Z",
     "start_time": "2023-07-13T10:58:05.150008Z"
    }
   },
   "outputs": [],
   "source": [
    "from xgboost import XGBClassifier\n",
    "# 建立模型及餵入訓練資料 (與標籤) 以進行學習\n",
    "# https://www.kaggle.com/code/bminixhofer/deterministic-neural-networks-using-pytorch\n",
    "model = XGBClassifier(n_estimators=20, random_state=71)\n",
    "model.fit(X_train, y_train)\n",
    "\n",
    "# 餵入測試資料以輸出預測值（0～1之间的几率值）\n",
    "pred = model.predict_proba(X_test)[:, 1]\n",
    "\n",
    "# 將大於 0.5 的預測值轉為 1、小於等於 0.5 則轉成 0\n",
    "pred_label = np.where(pred > 0.5, 1, 0)\n",
    "\n",
    "# 建立提交用的檔案\n",
    "submission = pd.DataFrame(\n",
    "    {'PassengerId': test['PassengerId'], 'Survived': pred_label})\n",
    "submission.to_csv('submission_first.csv', index=False)\n"
   ]
  },
  {
   "cell_type": "markdown",
   "metadata": {},
   "source": [
    "![](submission_first.png)\n",
    "## 评价模型\n",
    "\n",
    "建立模型的主要目的是要预测未知的资料。对于模型预测能力的优劣，我们必须要在submit之前就自行验证，对模型的能力加以评估。所以，我们通常会将喂给模型的资料分为训练资料、验证资料。同时也便于在过程中，提前终止，避免“过度拟合”这种本末倒置的现象。"
   ]
  },
  {
   "cell_type": "code",
   "execution_count": 14,
   "metadata": {
    "ExecuteTime": {
     "end_time": "2023-07-13T10:58:20.215076Z",
     "start_time": "2023-07-13T10:58:05.512501Z"
    }
   },
   "outputs": [
    {
     "name": "stdout",
     "output_type": "stream",
     "text": [
      "logloss: 0.4406, accuracy: 0.8159\n"
     ]
    }
   ],
   "source": [
    "from sklearn.model_selection import KFold\n",
    "from sklearn.metrics import log_loss, accuracy_score\n",
    "\n",
    "# 用 List 保存各 fold 的 accuracy 與 logloss 分數\n",
    "scores = {\n",
    "    'accuracy': [],\n",
    "    'logloss': []\n",
    "}\n",
    "\n",
    "# 進行交叉驗證\n",
    "# 將資料分成四組，1組用於驗證，其9餘組用於訓練，並且輪替10次\n",
    "kf = KFold(n_splits=10, shuffle=True, random_state=71)\n",
    "for tr_idx, va_idx in kf.split(X_train):\n",
    "    # 將資料分為訓練資料和驗證資料 (標籤也是)\n",
    "    tr_x, va_x = X_train.iloc[tr_idx], X_train.iloc[va_idx]\n",
    "    tr_y, va_y = y_train.iloc[tr_idx], y_train.iloc[va_idx]\n",
    "\n",
    "    # 建立 xgboost 模型並餵入訓練資料與標籤進行學習\n",
    "    model = XGBClassifier(n_estimators=20, random_state=71)\n",
    "    model.fit(tr_x, tr_y)\n",
    "\n",
    "    # 對驗證資料進行預測，輸出預測值的準確率\n",
    "    va_pred = model.predict_proba(va_x)[:, 1]\n",
    "\n",
    "    # 計算驗證資料預測值的評價指標，用 logloss 及 accuracy 來算誤差\n",
    "    logloss = log_loss(va_y, va_pred)\n",
    "    accuracy = accuracy_score(va_y, va_pred > 0.5)\n",
    "\n",
    "    # 保存該 fold 的評價指標\n",
    "    scores['logloss'].append(logloss)\n",
    "    scores['accuracy'].append(accuracy)\n",
    "\n",
    "# 輸出各 fold 評價指標的平均值\n",
    "logloss = np.mean(scores['logloss'])\n",
    "accuracy = np.mean(scores['accuracy'])\n",
    "print(f'logloss: {logloss:.4f}, accuracy: {accuracy:.4f}')\n",
    "# logloss: 0.4270, accuracy: 0.8148 (可能跟書中的數值略有不同)\n"
   ]
  },
  {
   "cell_type": "markdown",
   "metadata": {},
   "source": [
    "## 模型调整\n",
    "\n",
    "在训练前要制定一组超参数，设定模型的学习方法、速度预计模型的复杂度。我们必须将超参数调到最合适的情况，模型才能有最佳的学习成效。\n",
    "\n",
    "除了手动调整超参数，也有超参数微调工具，例如：[BayesianOptimization](https://github.com/bayesian-optimization/BayesianOptimization), [hyperopt](https://github.com/hyperopt/hyperopt), [Optuna](https://github.com/optuna/optuna)"
   ]
  },
  {
   "cell_type": "code",
   "execution_count": 15,
   "metadata": {
    "ExecuteTime": {
     "end_time": "2023-07-13T10:58:20.220188Z",
     "start_time": "2023-07-13T10:58:20.217684Z"
    }
   },
   "outputs": [],
   "source": [
    "# model.get_params()\n"
   ]
  },
  {
   "cell_type": "code",
   "execution_count": null,
   "metadata": {
    "ExecuteTime": {
     "start_time": "2023-07-13T10:57:57.401Z"
    }
   },
   "outputs": [],
   "source": [
    "# 用于处理排列组合\n",
    "import itertools\n",
    "\n",
    "# 準備用於調整的參數【第二次迭代，粒度更细】\n",
    "param_space = {\n",
    "    'n_estimators': [18, 19, 20, 21, 22],\n",
    "    'max_depth': [2, 3, 4],\n",
    "    'min_child_weight': np.linspace(1.5, 2.5, 10),\n",
    "}\n",
    "\n",
    "# 產生超參數 max_depth 與 min_child_weight 的所有組合\n",
    "param_combinations = itertools.product(param_space['n_estimators'],\n",
    "                                       param_space['max_depth'],\n",
    "                                       param_space['min_child_weight'])\n",
    "\n",
    "# 用 List 保存各參數組合以及各組合的分數\n",
    "params = []\n",
    "scores = []\n",
    "\n",
    "# 對各參數組合的模型進行交叉驗證\n",
    "# 即网格搜索（Grid Search），也就是超参数的暴力搜索\n",
    "for n_estimators, max_depth, min_child_weight in param_combinations:\n",
    "\n",
    "    score_folds = []\n",
    "    # 進行交叉驗證\n",
    "    # 將訓練資料分成10分，其中一個作為驗證資料，並不斷輪替交換\n",
    "    kf = KFold(n_splits=10, shuffle=True, random_state=654321)\n",
    "    for tr_idx, va_idx in kf.split(X_train):\n",
    "        # 將資料分為訓練資料與驗證資料\n",
    "        tr_x, va_x = X_train.iloc[tr_idx], X_train.iloc[va_idx]\n",
    "        tr_y, va_y = y_train.iloc[tr_idx], y_train.iloc[va_idx]\n",
    "\n",
    "        # 建立 xgboost 模型並進行訓練\n",
    "        model = XGBClassifier(n_estimators=n_estimators, random_state=123456,\n",
    "                              max_depth=max_depth, min_child_weight=min_child_weight)\n",
    "        model.fit(tr_x, tr_y)\n",
    "\n",
    "        # 驗證資料的預測值與 logloss 評價指標\n",
    "        va_pred = model.predict_proba(va_x)[:, 1]\n",
    "        logloss = log_loss(va_y, va_pred)\n",
    "        score_folds.append(logloss)\n",
    "\n",
    "    # 將各 fold 的評價指標進行平均\n",
    "    score_mean = np.mean(score_folds)\n",
    "\n",
    "    # 保存參數的組合以及其相對應的評價指標\n",
    "    params.append({'n_estimators': n_estimators,\n",
    "                  'max_depth': max_depth, 'min_child_weight': min_child_weight})\n",
    "    scores.append(score_mean)\n",
    "\n",
    "# 找出將評價指標分數最佳的參數組合\n",
    "best_idx = np.argsort(scores)[0]\n",
    "best_param = params[best_idx]\n",
    "\n",
    "print(best_param)\n"
   ]
  },
  {
   "cell_type": "markdown",
   "metadata": {},
   "source": [
    "## 集成学习\n",
    "\n",
    "三个臭皮匠，顶过诸葛亮。各模型的不足之处有机会透过其他模型补足，很容易在竞赛尾声，临门一脚，提升分数。本节将建立对数概率模型进行集成，同时，会给予xgboost较高的权重。注意，需要先建立新的特征。\n",
    "\n",
    "> Linear Quiz Blending"
   ]
  },
  {
   "cell_type": "code",
   "execution_count": null,
   "metadata": {
    "ExecuteTime": {
     "start_time": "2023-07-13T10:57:57.402Z"
    }
   },
   "outputs": [],
   "source": [
    "from sklearn.preprocessing import OneHotEncoder\n",
    "\n",
    "# 訓練與測試資料\n",
    "train_x2 = train.drop(['Survived'], axis=1)\n",
    "test_x2 = test.copy()\n",
    "\n",
    "# 去除訓練、測試資料中的 PassengerId 欄位\n",
    "train_x2 = train_x2.drop(['PassengerId'], axis=1)\n",
    "test_x2 = test_x2.drop(['PassengerId'], axis=1)\n",
    "\n",
    "# 去除訓練、測試資料中的 Name、Ticket、Cabin 欄位\n",
    "train_x2 = train_x2.drop(['Name', 'Ticket', 'Cabin'], axis=1)\n",
    "test_x2 = test_x2.drop(['Name', 'Ticket', 'Cabin'], axis=1)\n",
    "\n",
    "# 建立 one-hot 編碼的物件與進行相關設置 (告訴它編碼的方式)\n",
    "cat_cols = ['Sex', 'Embarked', 'Pclass']\n",
    "ohe = OneHotEncoder(categories='auto', sparse_output=False)\n",
    "ohe.fit(train_x2[cat_cols].fillna('NA'))\n",
    "\n",
    "# 對指定的欄位的數據進行 one-hot 編碼\n",
    "ohe_columns = []\n",
    "for i, c in enumerate(cat_cols):\n",
    "    ohe_columns += [f'{c}_{v}' for v in ohe.categories_[i]]\n",
    "\n",
    "# 對指定欄位的數據進行 one-hot 編碼，將結果存在一個新的 Dataframe\n",
    "ohe_train_x2 = pd.DataFrame(ohe.transform(\n",
    "    train_x2[cat_cols].fillna('NA')), columns=ohe_columns)\n",
    "ohe_test_x2 = pd.DataFrame(ohe.transform(\n",
    "    test_x2[cat_cols].fillna('NA')), columns=ohe_columns)\n",
    "\n",
    "# 去除原資料中，指定欄位的數據\n",
    "train_x2 = train_x2.drop(cat_cols, axis=1)\n",
    "test_x2 = test_x2.drop(cat_cols, axis=1)\n",
    "\n",
    "# 將 one-hot 編碼後的 Dataframe 與原資料合併\n",
    "train_x2 = pd.concat([train_x2, ohe_train_x2], axis=1)\n",
    "test_x2 = pd.concat([test_x2, ohe_test_x2], axis=1)\n",
    "\n",
    "# 將欄位中的缺失值，用整個欄位的平均值取代\n",
    "num_cols = ['Age', 'SibSp', 'Parch', 'Fare']\n",
    "for col in num_cols:\n",
    "    train_x2[col].fillna(train_x2[col].mean(), inplace=True)\n",
    "    test_x2[col].fillna(train_x2[col].mean(), inplace=True)\n",
    "\n",
    "# 對 Fare 欄位的數據取對數+1\n",
    "# 通常是为了让资料的变化平滑一点\n",
    "train_x2['Fare'] = np.log1p(train_x2['Fare'])\n",
    "test_x2['Fare'] = np.log1p(test_x2['Fare'])\n"
   ]
  },
  {
   "cell_type": "code",
   "execution_count": null,
   "metadata": {
    "ExecuteTime": {
     "start_time": "2023-07-13T10:57:57.402Z"
    }
   },
   "outputs": [],
   "source": [
    "train_x2.head()\n"
   ]
  },
  {
   "cell_type": "code",
   "execution_count": null,
   "metadata": {
    "ExecuteTime": {
     "start_time": "2023-07-13T10:57:57.403Z"
    }
   },
   "outputs": [],
   "source": [
    "sns.displot(train['Fare'], bins=100)\n",
    "plt.show()\n"
   ]
  },
  {
   "cell_type": "code",
   "execution_count": null,
   "metadata": {
    "ExecuteTime": {
     "start_time": "2023-07-13T10:57:57.404Z"
    }
   },
   "outputs": [],
   "source": [
    "sns.displot(data=train_x2, x='Fare', bins=100)\n",
    "plt.show()\n"
   ]
  },
  {
   "cell_type": "code",
   "execution_count": null,
   "metadata": {
    "ExecuteTime": {
     "start_time": "2023-07-13T10:57:57.405Z"
    }
   },
   "outputs": [],
   "source": [
    "from sklearn.linear_model import LogisticRegression\n",
    "\n",
    "# 建立 xgboost 模型並進行訓練與預測\n",
    "model_xgb = XGBClassifier(**best_param, random_state=71)\n",
    "model_xgb.fit(X_train, y_train)\n",
    "pred_xgb = model_xgb.predict_proba(X_test)[:, 1]\n",
    "\n",
    "# 建立邏輯斯迴歸模型並進行訓練與預測\n",
    "# 必須放入與 xgboost 模型不同的特徵，因此另外建立了 train_x2,test_x2\n",
    "model_lr = LogisticRegression(solver='lbfgs', max_iter=300)\n",
    "model_lr.fit(train_x2, y_train)\n",
    "pred_lr = model_lr.predict_proba(test_x2)[:, 1]\n",
    "\n",
    "# 取得加權平均後的預測值\n",
    "pred = pred_xgb * 0.8 + pred_lr * 0.2\n",
    "pred_label = np.where(pred > 0.5, 1, 0)\n",
    "\n",
    "# 建立提交用的档案\n",
    "submission = pd.DataFrame(\n",
    "    {'PassengerId': test['PassengerId'], 'Survived': pred_label})\n",
    "submission.to_csv('submission_ensemble.csv', index=False)\n"
   ]
  },
  {
   "cell_type": "markdown",
   "metadata": {
    "ExecuteTime": {
     "end_time": "2023-07-13T10:57:47.103121Z",
     "start_time": "2023-07-13T10:57:46.947947Z"
    }
   },
   "source": [
    "![](submission_ensemble.png)"
   ]
  },
  {
   "cell_type": "code",
   "execution_count": null,
   "metadata": {},
   "outputs": [],
   "source": []
  }
 ],
 "metadata": {
  "kernelspec": {
   "display_name": "Python 3 (ipykernel)",
   "language": "python",
   "name": "python3"
  },
  "language_info": {
   "codemirror_mode": {
    "name": "ipython",
    "version": 3
   },
   "file_extension": ".py",
   "mimetype": "text/x-python",
   "name": "python",
   "nbconvert_exporter": "python",
   "pygments_lexer": "ipython3",
   "version": "3.9.12"
  },
  "toc": {
   "base_numbering": 1,
   "nav_menu": {},
   "number_sections": true,
   "sideBar": true,
   "skip_h1_title": false,
   "title_cell": "Table of Contents",
   "title_sidebar": "Contents",
   "toc_cell": false,
   "toc_position": {},
   "toc_section_display": true,
   "toc_window_display": true
  }
 },
 "nbformat": 4,
 "nbformat_minor": 1
}
